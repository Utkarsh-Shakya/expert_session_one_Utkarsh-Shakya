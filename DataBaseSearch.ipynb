{
 "metadata": {
  "language_info": {
   "codemirror_mode": {
    "name": "ipython",
    "version": 3
   },
   "file_extension": ".py",
   "mimetype": "text/x-python",
   "name": "python",
   "nbconvert_exporter": "python",
   "pygments_lexer": "ipython3",
   "version": "3.7.4"
  },
  "orig_nbformat": 4,
  "kernelspec": {
   "name": "python3",
   "display_name": "Python 3.7.4 64-bit ('base': conda)"
  },
  "interpreter": {
   "hash": "42ed8e3e7f22d40cdae13fff2ca63bf4c5f9a6091a694ed001eb6db1075f2cae"
  }
 },
 "nbformat": 4,
 "nbformat_minor": 2,
 "cells": [
  {
   "cell_type": "code",
   "execution_count": null,
   "source": [
    "import json\r\n",
    "\r\n",
    "from prettytable import PrettyTable\r\n",
    "from stringMatcher import levenshtein_ratio_and_distance\r\n",
    "from time import time\r\n",
    "\r\n",
    "table = PrettyTable(field_names=[\"UserID\", \"Rating\", \"Tags\", \"Timestamp\"])"
   ],
   "outputs": [],
   "metadata": {}
  },
  {
   "cell_type": "markdown",
   "source": [
    "## Load The database into the memory..."
   ],
   "metadata": {}
  },
  {
   "cell_type": "code",
   "execution_count": null,
   "source": [
    "data = json.load(open(\"dataStore/dataFinal.json\", \"rb\"))"
   ],
   "outputs": [],
   "metadata": {}
  },
  {
   "cell_type": "markdown",
   "source": [
    "## Load the Global Secondary index in the memory..."
   ],
   "metadata": {}
  },
  {
   "cell_type": "code",
   "execution_count": null,
   "source": [
    "GIS = json.load(open(\"dataStore/dataFinal_GIS.json\", \"rb\"))"
   ],
   "outputs": [],
   "metadata": {}
  },
  {
   "cell_type": "markdown",
   "source": [
    "## Write a function to search the movies by ```Title```"
   ],
   "metadata": {}
  },
  {
   "cell_type": "code",
   "execution_count": null,
   "source": [
    "def getClosestMatch(queryString):\r\n",
    "    # Initialize the time counter...\r\n",
    "    tic                  = time()\r\n",
    "    \r\n",
    "    # First Error Handling\r\n",
    "    # Manipulating query string\r\n",
    "    def properCase(queryString):\r\n",
    "        words=queryString.split()\r\n",
    "        temp=''\r\n",
    "        for i in words:\r\n",
    "            temp=temp+\" \"+(i.capitalize())\r\n",
    "        return temp\r\n",
    "\r\n",
    "    # Find closest match of the queryString from the Global Secondary Index...\r\n",
    "    matchRatios          = [levenshtein_ratio_and_distance(properCase(queryString), KEY) for KEY, _ in GIS.items()]\r\n",
    "    bestMatchRatio       = max(matchRatios)\r\n",
    "\r\n",
    "    # If the best match ratio is less than 50% then we will assume that the records doesn't exist...\r\n",
    "    if (bestMatchRatio < 0.5):\r\n",
    "        return {\r\n",
    "            \"response code\" : 404,\r\n",
    "            \"search time\"   : f\"{time()-tic} seconds\",\r\n",
    "            \"message\"       : \"error\",\r\n",
    "            \"response body\" : \"no match found\"\r\n",
    "        }\r\n",
    "    \r\n",
    "    # Otherwise...\r\n",
    "    bestMatchRatio_index = matchRatios.index(bestMatchRatio)\r\n",
    "\r\n",
    "    # Find the movieID of the movie which is the best match to the queryString...\r\n",
    "    bestMatch_MovieTitle = list(GIS)[bestMatchRatio_index]\r\n",
    "    bestMatch_MovieID    = GIS[bestMatch_MovieTitle]\r\n",
    "\r\n",
    "    # Now we have movieID which is the primary key in our main data-store...\r\n",
    "    # Retrieve the details of the movie from the MovieID\r\n",
    "    movieInfo            = data[str(bestMatch_MovieID)]\r\n",
    "    \r\n",
    "    # Mark the search completion time...\r\n",
    "    toc                  = time()\r\n",
    "\r\n",
    "    # Add Movie Title to the response...\r\n",
    "    movieInfo[\"title\"] = bestMatch_MovieTitle\r\n",
    "    # Construct the response Model...\r\n",
    "    responseModel = {\r\n",
    "        \"response code\" : 200,\r\n",
    "        \"search time\"   : f\"{toc-tic} seconds\",\r\n",
    "        \"message\"       : \"success\",\r\n",
    "        \"response body\" : movieInfo\r\n",
    "    }\r\n",
    "    \r\n",
    "    return responseModel"
   ],
   "outputs": [],
   "metadata": {}
  },
  {
   "cell_type": "markdown",
   "source": [
    "## Write a function to make a request and visualize the data returned by the search function..."
   ],
   "metadata": {}
  },
  {
   "cell_type": "code",
   "execution_count": null,
   "source": [
    "def request(movieToSearch=\"\"):\r\n",
    "    # Movie name should always be in a string...\r\n",
    "    movieToSearch = str(movieToSearch)\r\n",
    "    # Check if the movie name is valid...\r\n",
    "    if(movieToSearch.replace(\" \", \"\").strip() == \"\"):\r\n",
    "        return f\"Invalid Movie Name\"\r\n",
    "    \r\n",
    "    # Make a request to fetch the movie info...\r\n",
    "    response = getClosestMatch(queryString = movieToSearch)\r\n",
    "\r\n",
    "    # Check the response code...\r\n",
    "    if response[\"response code\"] == 404:\r\n",
    "        return f\"ERROR: No records found\"\r\n",
    "    \r\n",
    "    # otherwise...\r\n",
    "    # Construct user ratings table...\r\n",
    "    ratings = response[\"response body\"][\"user_rating\"]\r\n",
    "    tags    = response[\"response body\"][\"tags\"]\r\n",
    "\r\n",
    "    for rating in ratings:\r\n",
    "        try    : tags_by_a_single_user_to_a_single_movie = \", \".join([tag[\"tag\"] for tag in tags if rating[\"userId\"] == tag[\"userId\"]]) # Please don't mind the long veriable name :-)\r\n",
    "        except : tags_by_a_single_user_to_a_single_movie = \"\"\r\n",
    "        break\r\n",
    "    table.add_row([rating[\"userId\"], rating[\"rating\"], tags_by_a_single_user_to_a_single_movie, rating[\"time_stamp\"]])\r\n",
    "\r\n",
    "    #Second Error\r\n",
    "    #To calculate average movie rating\r\n",
    "    sum_of_ratings=0.0\r\n",
    "    no_of_ratings=0\r\n",
    "    for rating in ratings:\r\n",
    "        sum_of_ratings=sum_of_ratings+rating[\"rating\"]\r\n",
    "        no_of_ratings+=1\r\n",
    "    avg_rating=round(sum_of_ratings/no_of_ratings,1)\r\n",
    "\r\n",
    "    # Now we need to check if a user has given \r\n",
    "    data_to_print = f\"\\\r\n",
    "    Title          : {response['response body']['title']}\\n\\\r\n",
    "    Genre          : {response['response body']['genre']}\\n\\\r\n",
    "    User Ratings   : {avg_rating}/5.0\\n\\\r\n",
    "    \"\r\n",
    "    print(data_to_print)\r\n",
    "    print(table)\r\n",
    "    table.clear_rows()"
   ],
   "outputs": [],
   "metadata": {}
  },
  {
   "cell_type": "markdown",
   "source": [
    "## Test Cases"
   ],
   "metadata": {}
  },
  {
   "cell_type": "code",
   "execution_count": null,
   "source": [
    "request(movieToSearch=\"Jumanji\")"
   ],
   "outputs": [],
   "metadata": {}
  },
  {
   "cell_type": "code",
   "execution_count": null,
   "source": [
    "request(movieToSearch=\"jUMANJI\")"
   ],
   "outputs": [],
   "metadata": {}
  },
  {
   "cell_type": "code",
   "execution_count": null,
   "source": [
    "request(movieToSearch=\"HITMAN\")"
   ],
   "outputs": [],
   "metadata": {}
  },
  {
   "cell_type": "code",
   "execution_count": null,
   "source": [
    "request(movieToSearch=\"GOLDEN COMPASS\")"
   ],
   "outputs": [],
   "metadata": {}
  },
  {
   "cell_type": "code",
   "execution_count": null,
   "source": [
    "request(movieToSearch=\"gOLDEN cOMPASS\")"
   ],
   "outputs": [],
   "metadata": {}
  },
  {
   "cell_type": "code",
   "execution_count": null,
   "source": [
    "request(movieToSearch=\"goldencompass\")"
   ],
   "outputs": [],
   "metadata": {}
  },
  {
   "cell_type": "code",
   "execution_count": null,
   "source": [
    "request(movieToSearch=\"gONE bABY gONE\")"
   ],
   "outputs": [],
   "metadata": {}
  },
  {
   "cell_type": "code",
   "execution_count": null,
   "source": [
    "request(movieToSearch=\"GONEBABYGONE\")"
   ],
   "outputs": [],
   "metadata": {}
  },
  {
   "cell_type": "code",
   "execution_count": null,
   "source": [
    "request(movieToSearch=\"XYZ\")"
   ],
   "outputs": [],
   "metadata": {}
  },
  {
   "cell_type": "code",
   "execution_count": null,
   "source": [
    "request(movieToSearch=\"daninreallife\")"
   ],
   "outputs": [],
   "metadata": {}
  },
  {
   "cell_type": "code",
   "execution_count": null,
   "source": [
    "request(movieToSearch=\"DAN IN REAL LIFE\")"
   ],
   "outputs": [],
   "metadata": {}
  },
  {
   "cell_type": "code",
   "execution_count": null,
   "source": [
    "request(movieToSearch=\"other diseases\")"
   ],
   "outputs": [],
   "metadata": {}
  },
  {
   "cell_type": "code",
   "execution_count": null,
   "source": [
    "request(movieToSearch=\"love and\")"
   ],
   "outputs": [],
   "metadata": {}
  },
  {
   "cell_type": "code",
   "execution_count": null,
   "source": [
    "request(movieToSearch=\"tAXI 4\")"
   ],
   "outputs": [],
   "metadata": {}
  },
  {
   "cell_type": "code",
   "execution_count": null,
   "source": [
    "request(movieToSearch=\"VALET, The (La doublure)\")"
   ],
   "outputs": [],
   "metadata": {}
  },
  {
   "cell_type": "code",
   "execution_count": null,
   "source": [
    "request(movieToSearch=\"valet, The (la DOUbLure)\")"
   ],
   "outputs": [],
   "metadata": {}
  },
  {
   "cell_type": "code",
   "execution_count": null,
   "source": [
    "request(movieToSearch=\"Jonestown: THE LIFE AND DEATH of PEOPLES TEMPLE\")"
   ],
   "outputs": [],
   "metadata": {}
  },
  {
   "cell_type": "code",
   "execution_count": null,
   "source": [
    "request(movieToSearch=\"JonestowN\")"
   ],
   "outputs": [],
   "metadata": {}
  },
  {
   "cell_type": "code",
   "execution_count": null,
   "source": [
    "request(movieToSearch=\"It's a VERY MERRY MUPET ChristMAS Movie\")"
   ],
   "outputs": [],
   "metadata": {}
  },
  {
   "cell_type": "code",
   "execution_count": null,
   "source": [
    "request(movieToSearch=\"Muppet Christmas Movie\")"
   ],
   "outputs": [],
   "metadata": {}
  }
 ]
}
